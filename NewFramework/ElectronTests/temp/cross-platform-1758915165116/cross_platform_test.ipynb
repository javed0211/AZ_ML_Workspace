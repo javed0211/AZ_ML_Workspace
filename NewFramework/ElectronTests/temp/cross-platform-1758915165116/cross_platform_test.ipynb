{
  "cells": [
    {
      "cell_type": "markdown",
      "metadata": {},
      "source": [
        "# Cross-Platform Jupyter Notebook Test\n",
        "\n",
        "This notebook tests cross-platform compatibility for:\n",
        "- Windows\n",
        "- macOS\n",
        "- Linux\n",
        "\n",
        "## System Information"
      ]
    },
    {
      "cell_type": "code",
      "execution_count": null,
      "metadata": {},
      "outputs": [],
      "source": [
        "import sys\n",
        "import os\n",
        "import platform\n",
        "from datetime import datetime\n",
        "\n",
        "print(f\"🖥️  Platform: {platform.system()}\")\n",
        "print(f\"🏗️  Architecture: {platform.architecture()}\")\n",
        "print(f\"🐍 Python Version: {sys.version}\")\n",
        "print(f\"📁 Current Directory: {os.getcwd()}\")\n",
        "print(f\"⏰ Timestamp: {datetime.now()}\")"
      ]
    },
    {
      "cell_type": "code",
      "execution_count": null,
      "metadata": {},
      "outputs": [],
      "source": [
        "# Test basic data science libraries\n",
        "try:\n",
        "    import numpy as np\n",
        "    print(f\"✅ NumPy {np.__version__} available\")\n",
        "    \n",
        "    # Create sample data\n",
        "    data = np.random.randn(10, 3)\n",
        "    print(f\"📊 Sample data shape: {data.shape}\")\n",
        "    print(f\"📈 Data preview:\\n{data[:3]}\")\n",
        "    \n",
        "except ImportError as e:\n",
        "    print(f\"⚠️ NumPy not available: {e}\")"
      ]
    },
    {
      "cell_type": "code",
      "execution_count": null,
      "metadata": {},
      "outputs": [],
      "source": [
        "# Test pandas if available\n",
        "try:\n",
        "    import pandas as pd\n",
        "    print(f\"✅ Pandas {pd.__version__} available\")\n",
        "    \n",
        "    # Create sample DataFrame\n",
        "    df = pd.DataFrame({\n",
        "        'platform': [platform.system()] * 5,\n",
        "        'test_id': range(1, 6),\n",
        "        'timestamp': [datetime.now()] * 5,\n",
        "        'success': [True] * 5\n",
        "    })\n",
        "    \n",
        "    print(f\"📋 DataFrame created:\")\n",
        "    print(df)\n",
        "    \n",
        "except ImportError as e:\n",
        "    print(f\"⚠️ Pandas not available: {e}\")"
      ]
    },
    {
      "cell_type": "code",
      "execution_count": null,
      "metadata": {},
      "outputs": [],
      "source": [
        "# Test file operations\n",
        "test_file = 'cross_platform_test.txt'\n",
        "\n",
        "# Write test file\n",
        "with open(test_file, 'w') as f:\n",
        "    f.write(f\"Cross-platform test executed on {platform.system()}\\n\")\n",
        "    f.write(f\"Python version: {sys.version}\\n\")\n",
        "    f.write(f\"Timestamp: {datetime.now()}\\n\")\n",
        "\n",
        "# Read and verify\n",
        "if os.path.exists(test_file):\n",
        "    with open(test_file, 'r') as f:\n",
        "        content = f.read()\n",
        "    print(f\"✅ File operations successful:\")\n",
        "    print(content)\n",
        "    \n",
        "    # Clean up\n",
        "    os.remove(test_file)\n",
        "    print(f\"🧹 Test file cleaned up\")\n",
        "else:\n",
        "    print(f\"❌ File operation failed\")"
      ]
    },
    {
      "cell_type": "code",
      "execution_count": null,
      "metadata": {},
      "outputs": [],
      "source": [
        "# Final status report\n",
        "print(\"\\n\" + \"=\"*50)\n",
        "print(\"🎉 CROSS-PLATFORM JUPYTER TEST COMPLETED\")\n",
        "print(\"=\"*50)\n",
        "print(f\"Platform: {platform.system()}\")\n",
        "print(f\"Python: {sys.version.split()[0]}\")\n",
        "print(f\"Status: ✅ SUCCESS\")\n",
        "print(f\"Timestamp: {datetime.now()}\")\n",
        "print(\"=\"*50)"
      ]
    }
  ],
  "metadata": {
    "kernelspec": {
      "display_name": "Python 3",
      "language": "python",
      "name": "python3"
    },
    "language_info": {
      "codemirror_mode": {
        "name": "ipython",
        "version": 3
      },
      "file_extension": ".py",
      "mimetype": "text/x-python",
      "name": "python",
      "nbconvert_exporter": "python",
      "pygments_lexer": "ipython3",
      "version": "3.9.0"
    }
  },
  "nbformat": 4,
  "nbformat_minor": 4
}
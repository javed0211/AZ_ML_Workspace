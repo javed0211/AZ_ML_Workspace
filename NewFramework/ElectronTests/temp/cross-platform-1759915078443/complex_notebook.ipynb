{
  "cells": [
    {
      "cell_type": "markdown",
      "metadata": {},
      "source": [
        "# Complex Notebook\n\nThis notebook contains various cell types and special characters: 🚀 ✅ 📊"
      ]
    },
    {
      "cell_type": "code",
      "execution_count": 1,
      "metadata": {},
      "outputs": [
        {
          "output_type": "stream",
          "name": "stdout",
          "text": [
            "Hello World!\n"
          ]
        }
      ],
      "source": [
        "# Code with output\nprint('Hello World!')"
      ]
    },
    {
      "cell_type": "raw",
      "metadata": {},
      "source": [
        "This is a raw cell with special characters: àáâãäåæçèéêë"
      ]
    }
  ],
  "metadata": {
    "kernelspec": {
      "display_name": "Python 3",
      "language": "python",
      "name": "python3"
    }
  },
  "nbformat": 4,
  "nbformat_minor": 4
}
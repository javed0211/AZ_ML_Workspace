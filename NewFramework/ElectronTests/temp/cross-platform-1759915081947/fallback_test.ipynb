{
  "cells": [
    {
      "cell_type": "markdown",
      "metadata": {},
      "source": [
        "# Fallback Test Notebook\n\nThis notebook was created because the specified folder was not found."
      ]
    },
    {
      "cell_type": "code",
      "execution_count": null,
      "metadata": {},
      "outputs": [],
      "source": [
        "import os\n",
        "import sys\n",
        "print(f'Running on: {sys.platform}')\n",
        "print(f'Current directory: {os.getcwd()}')\n",
        "print('Fallback notebook execution successful!')"
      ]
    }
  ],
  "metadata": {
    "kernelspec": {
      "display_name": "Python 3",
      "language": "python",
      "name": "python3"
    }
  },
  "nbformat": 4,
  "nbformat_minor": 4
}
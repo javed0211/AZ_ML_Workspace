{
 "cells": [
  {
   "cell_type": "markdown",
   "metadata": {},
   "source": [
    "# Azure ML Demo Notebook\n",
    "\n",
    "This notebook demonstrates basic Azure ML operations and data science workflows."
   ]
  },
  {
   "cell_type": "code",
   "execution_count": null,
   "metadata": {},
   "outputs": [],
   "source": [
    "# Import necessary libraries\n",
    "import pandas as pd\n",
    "import numpy as np\n",
    "import matplotlib.pyplot as plt\n",
    "import seaborn as sns\n",
    "from datetime import datetime\n",
    "\n",
    "print(\"Libraries imported successfully!\")\n",
    "print(f\"Current time: {datetime.now()}\")"
   ]
  },
  {
   "cell_type": "code",
   "execution_count": null,
   "metadata": {},
   "outputs": [],
   "source": [
    "# Create sample data for demonstration\n",
    "np.random.seed(42)\n",
    "data = {\n",
    "    'feature_1': np.random.normal(0, 1, 100),\n",
    "    'feature_2': np.random.normal(2, 1.5, 100),\n",
    "    'feature_3': np.random.exponential(1, 100),\n",
    "    'target': np.random.choice([0, 1], 100)\n",
    "}\n",
    "\n",
    "df = pd.DataFrame(data)\n",
    "print(\"Sample dataset created:\")\n",
    "print(df.head())\n",
    "print(f\"\\nDataset shape: {df.shape}\")"
   ]
  },
  {
   "cell_type": "code",
   "execution_count": null,
   "metadata": {},
   "outputs": [],
   "source": [
    "# Data visualization\n",
    "plt.figure(figsize=(12, 4))\n",
    "\n",
    "# Subplot 1: Feature distributions\n",
    "plt.subplot(1, 3, 1)\n",
    "plt.hist(df['feature_1'], bins=20, alpha=0.7, color='blue')\n",
    "plt.title('Feature 1 Distribution')\n",
    "plt.xlabel('Value')\n",
    "plt.ylabel('Frequency')\n",
    "\n",
    "# Subplot 2: Feature correlation\n",
    "plt.subplot(1, 3, 2)\n",
    "plt.scatter(df['feature_1'], df['feature_2'], c=df['target'], cmap='viridis', alpha=0.6)\n",
    "plt.title('Feature 1 vs Feature 2')\n",
    "plt.xlabel('Feature 1')\n",
    "plt.ylabel('Feature 2')\n",
    "plt.colorbar(label='Target')\n",
    "\n",
    "# Subplot 3: Target distribution\n",
    "plt.subplot(1, 3, 3)\n",
    "target_counts = df['target'].value_counts()\n",
    "plt.pie(target_counts.values, labels=target_counts.index, autopct='%1.1f%%')\n",
    "plt.title('Target Distribution')\n",
    "\n",
    "plt.tight_layout()\n",
    "plt.show()"
   ]
  },
  {
   "cell_type": "code",
   "execution_count": null,
   "metadata": {},
   "outputs": [],
   "source": [
    "# Basic statistics and data analysis\n",
    "print(\"Dataset Statistics:\")\n",
    "print(\"=\" * 50)\n",
    "print(df.describe())\n",
    "\n",
    "print(\"\\nCorrelation Matrix:\")\n",
    "print(\"=\" * 50)\n",
    "correlation_matrix = df.corr()\n",
    "print(correlation_matrix)\n",
    "\n",
    "# Visualize correlation matrix\n",
    "plt.figure(figsize=(8, 6))\n",
    "sns.heatmap(correlation_matrix, annot=True, cmap='coolwarm', center=0)\n",
    "plt.title('Feature Correlation Matrix')\n",
    "plt.show()"
   ]
  },
  {
   "cell_type": "code",
   "execution_count": null,
   "metadata": {},
   "outputs": [],
   "source": [
    "# Simple machine learning example\n",
    "from sklearn.model_selection import train_test_split\n",
    "from sklearn.ensemble import RandomForestClassifier\n",
    "from sklearn.metrics import accuracy_score, classification_report\n",
    "\n",
    "# Prepare features and target\n",
    "X = df[['feature_1', 'feature_2', 'feature_3']]\n",
    "y = df['target']\n",
    "\n",
    "# Split the data\n",
    "X_train, X_test, y_train, y_test = train_test_split(X, y, test_size=0.2, random_state=42)\n",
    "\n",
    "# Train a simple model\n",
    "model = RandomForestClassifier(n_estimators=100, random_state=42)\n",
    "model.fit(X_train, y_train)\n",
    "\n",
    "# Make predictions\n",
    "y_pred = model.predict(X_test)\n",
    "\n",
    "# Evaluate the model\n",
    "accuracy = accuracy_score(y_test, y_pred)\n",
    "print(f\"Model Accuracy: {accuracy:.3f}\")\n",
    "print(\"\\nClassification Report:\")\n",
    "print(classification_report(y_test, y_pred))"
   ]
  },
  {
   "cell_type": "code",
   "execution_count": null,
   "metadata": {},
   "outputs": [],
   "source": [
    "# Feature importance visualization\n",
    "feature_importance = pd.DataFrame({\n",
    "    'feature': X.columns,\n",
    "    'importance': model.feature_importances_\n",
    "}).sort_values('importance', ascending=False)\n",
    "\n",
    "plt.figure(figsize=(10, 6))\n",
    "sns.barplot(data=feature_importance, x='importance', y='feature')\n",
    "plt.title('Feature Importance')\n",
    "plt.xlabel('Importance Score')\n",
    "plt.show()\n",
    "\n",
    "print(\"Feature Importance:\")\n",
    "print(feature_importance)"
   ]
  },
  {
   "cell_type": "markdown",
   "metadata": {},
   "source": [
    "## Azure ML Integration Example\n",
    "\n",
    "Below is an example of how you might integrate with Azure ML services:"
   ]
  },
  {
   "cell_type": "code",
   "execution_count": null,
   "metadata": {},
   "outputs": [],
   "source": [
    "# Azure ML integration example (commented out as it requires Azure credentials)\n",
    "# from azureml.core import Workspace, Experiment, Environment\n",
    "# from azureml.core.model import Model\n",
    "\n",
    "print(\"Azure ML Integration Example:\")\n",
    "print(\"=\" * 40)\n",
    "print(\"1. Connect to Azure ML Workspace\")\n",
    "print(\"2. Create or get an Experiment\")\n",
    "print(\"3. Submit training runs\")\n",
    "print(\"4. Register and deploy models\")\n",
    "print(\"5. Monitor model performance\")\n",
    "\n",
    "# Example configuration that would be used:\n",
    "config = {\n",
    "    \"subscription_id\": \"your-subscription-id\",\n",
    "    \"resource_group\": \"your-resource-group\",\n",
    "    \"workspace_name\": \"your-workspace-name\"\n",
    "}\n",
    "\n",
    "print(f\"\\nExample config: {config}\")\n",
    "print(\"\\n✅ Notebook execution completed successfully!\")"
   ]
  }
 ],
 "metadata": {
  "kernelspec": {
   "display_name": "Python 3",
   "language": "python",
   "name": "python3"
  },
  "language_info": {
   "codemirror_mode": {
    "name": "ipython",
    "version": 3
   },
   "file_extension": ".py",
   "mimetype": "text/x-python",
   "name": "python",
   "nbconvert_exporter": "python",
   "pygments_lexer": "ipython3",
   "version": "3.8.5"
  }
 },
 "nbformat": 4,
 "nbformat_minor": 4
}
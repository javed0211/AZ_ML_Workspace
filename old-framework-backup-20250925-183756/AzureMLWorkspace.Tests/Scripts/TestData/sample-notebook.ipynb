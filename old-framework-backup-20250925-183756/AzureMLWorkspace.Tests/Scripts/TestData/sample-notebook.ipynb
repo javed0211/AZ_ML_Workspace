{
 "cells": [
  {
   "cell_type": "markdown",
   "metadata": {},
   "source": [
    "# Sample Azure ML Notebook\n",
    "\n",
    "This is a sample notebook for testing Azure ML functionality."
   ]
  },
  {
   "cell_type": "code",
   "execution_count": null,
   "metadata": {},
   "outputs": [],
   "source": [
    "import pandas as pd\n",
    "import numpy as np\n",
    "from azureml.core import Workspace, Dataset\n",
    "\n",
    "# Sample data processing\n",
    "data = pd.DataFrame({\n",
    "    'feature1': np.random.randn(100),\n",
    "    'feature2': np.random.randn(100),\n",
    "    'target': np.random.randint(0, 2, 100)\n",
    "})\n",
    "\n",
    "print(\"Sample data created successfully\")\n",
    "print(data.head())"
   ]
  },
  {
   "cell_type": "code",
   "execution_count": null,
   "metadata": {},
   "outputs": [],
   "source": [
    "# Document processing example\n",
    "def process_document(text):\n",
    "    \"\"\"Process document text for analysis\"\"\"\n",
    "    # This would integrate with Azure Cognitive Services\n",
    "    processed_text = text.lower().strip()\n",
    "    return processed_text\n",
    "\n",
    "sample_text = \"This is a sample document for processing.\"\n",
    "result = process_document(sample_text)\n",
    "print(f\"Processed text: {result}\")"
   ]
  }
 ],
 "metadata": {
  "kernelspec": {
   "display_name": "Python 3",
   "language": "python",
   "name": "python3"
  },
  "language_info": {
   "codemirror_mode": {
    "name": "ipython",
    "version": 3
   },
   "file_extension": ".py",
   "mimetype": "text/x-python",
   "name": "python",
   "nbconvert_exporter": "python",
   "pygments_lexer": "ipython3",
   "version": "3.8.5"
  }
 },
 "nbformat": 4,
 "nbformat_minor": 4
}